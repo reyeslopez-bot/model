{
 "cells": [
  {
   "cell_type": "code",
   "execution_count": 10,
   "metadata": {},
   "outputs": [
    {
     "name": "stdout",
     "output_type": "stream",
     "text": [
      "End of file reached unexpectedly while loading the model: \n"
     ]
    },
    {
     "ename": "SystemExit",
     "evalue": "1",
     "output_type": "error",
     "traceback": [
      "An exception has occurred, use %tb to see the full traceback.\n",
      "\u001b[0;31mSystemExit\u001b[0m\u001b[0;31m:\u001b[0m 1\n"
     ]
    }
   ],
   "source": [
    "import joblib\n",
    "from sklearn.metrics import classification_report, accuracy_score\n",
    "import os\n",
    "import sys\n",
    "\n",
    "# Define the path to your model\n",
    "model_path = '/Users/apikorus/model/trained_model.pkl'\n",
    "\n",
    "def load_and_inspect_model(path):\n",
    "    if not os.path.exists(path):\n",
    "        print(f\"No model file found at {path}. Please check the file path.\")\n",
    "        return None\n",
    "\n",
    "    try:\n",
    "        model = joblib.load(path)\n",
    "        print(f\"Model loaded successfully: {type(model)}\\n\")\n",
    "\n",
    "        # Detailed model inspection\n",
    "        print(\"Model attributes:\")\n",
    "        for attr in dir(model):\n",
    "            if not attr.startswith('_'):\n",
    "                print(f\"  {attr}\")\n",
    "\n",
    "        if hasattr(model, 'feature_importances_'):\n",
    "            print(\"\\nFeature Importances:\")\n",
    "            print(model.feature_importances_)\n",
    "        else:\n",
    "            print(\"\\nThis model does not support feature importances.\")\n",
    "        \n",
    "        return model\n",
    "    except EOFError as e:\n",
    "        print(f\"End of file reached unexpectedly while loading the model: {e}\")\n",
    "    except Exception as e:\n",
    "        print(f\"An unexpected error occurred: {e}\")\n",
    "\n",
    "    return None\n",
    "\n",
    "model = load_and_inspect_model(model_path)\n",
    "if model is None:\n",
    "    sys.exit(1)"
   ]
  }
 ],
 "metadata": {
  "kernelspec": {
   "display_name": "Python 3",
   "language": "python",
   "name": "python3"
  },
  "language_info": {
   "codemirror_mode": {
    "name": "ipython",
    "version": 3
   },
   "file_extension": ".py",
   "mimetype": "text/x-python",
   "name": "python",
   "nbconvert_exporter": "python",
   "pygments_lexer": "ipython3",
   "version": "3.11.6"
  }
 },
 "nbformat": 4,
 "nbformat_minor": 2
}
