{
 "cells": [
  {
   "cell_type": "code",
   "execution_count": 2,
   "metadata": {},
   "outputs": [],
   "source": [
    "import joblib\n",
    "from sklearn.metrics import classification_report, accuracy_score\n",
    "\n",
    "# Define the path to your model\n",
    "model_path = '/Users/apikorus/model/mymodel.pkl'\n",
    "\n",
    "def load_and_inspect_model(path):\n",
    "    try:\n",
    "        model = joblib.load(path)\n",
    "        print(f\"Model loaded successfully: {type(model)}\\n\")\n",
    "        \n",
    "        # Detailed model inspection\n",
    "        print(\"Model attributes:\")\n",
    "        for attr in dir(model):\n",
    "            if not attr.startswith('_'):\n",
    "                print(f\"  {attr}\")\n",
    "\n",
    "        if hasattr(model, 'feature_importances_'):\n",
    "            print(\"\\nFeature Importances:\")\n",
    "            print(model.feature_importances_)\n",
    "        else:\n",
    "            print(\"\\nThis model does not support feature importances.\")\n",
    "        \n",
    "        return model\n",
    "    except FileNotFoundError:\n",
    "        print(f\"No model file found at {path}. Please check the file path.\")\n",
    "    except joblib.JoblibException as e:\n",
    "        print(f\"Model loading error: {e}\")\n",
    "    except Exception as e:\n",
    "        print(f\"An unexpected error occurred: {e}\")\n",
    "    return None\n",
    "\n",
    "model = load_and_inspect_model(model_path)\n",
    "\n",
    "# Extend this script to use the model for predictions or evaluations as needed.\n"
   ]
  }
 ],
 "metadata": {
  "kernelspec": {
   "display_name": "Python 3",
   "language": "python",
   "name": "python3"
  },
  "language_info": {
   "codemirror_mode": {
    "name": "ipython",
    "version": 3
   },
   "file_extension": ".py",
   "mimetype": "text/x-python",
   "name": "python",
   "nbconvert_exporter": "python",
   "pygments_lexer": "ipython3",
   "version": "3.11.6"
  }
 },
 "nbformat": 4,
 "nbformat_minor": 2
}
